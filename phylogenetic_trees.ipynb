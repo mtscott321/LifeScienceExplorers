{
 "cells": [
  {
   "cell_type": "code",
   "execution_count": null,
   "id": "756482e6-c544-4bc2-9700-5112b3fcffe4",
   "metadata": {},
   "outputs": [],
   "source": [
    "from Bio import SeqIO\n",
    "from Bio import Seq\n",
    "from Bio.Align import PairwiseAligner\n",
    "import pandas as pd\n",
    "from Bio.Seq import Seq\n",
    "from Bio import Phylo\n",
    "from Bio.Phylo.TreeConstruction import DistanceCalculator, DistanceTreeConstructor\n",
    "from Bio import AlignIO\n",
    "from Bio.Align import MultipleSeqAlignment\n",
    "from Bio.SeqRecord import SeqRecord"
   ]
  },
  {
   "cell_type": "code",
   "execution_count": null,
   "id": "0f0b0ccb-a1fb-41db-a42f-c829a9f27f70",
   "metadata": {},
   "outputs": [],
   "source": [
    "\"\"\"\n",
    "Step 1: Import your practice sequences from the .fasta file\n",
    "\"\"\"\n",
    "# Path to your FASTA file\n",
    "fasta_file = \"practice_sequences.fasta\"\n",
    "\n",
    "# Load all sequences from the FASTA file\n",
    "sequences = list(SeqIO.parse(fasta_file, \"fasta\"))\n",
    "\n",
    "# Print all the sequences\n",
    "for seq_record in sequences:\n",
    "    globals()[seq_record.id] = str(seq_record.seq)\n",
    "    print(f\"{seq_record.id}: {seq_record.seq}\")"
   ]
  },
  {
   "cell_type": "code",
   "execution_count": null,
   "id": "284f4342-0e9b-4ac2-81a8-4c0848a13b57",
   "metadata": {
    "scrolled": true
   },
   "outputs": [],
   "source": [
    "\"\"\"\n",
    "Step 2: Align your sequences and count their differences\n",
    "a) Pick any two sequences from the list seq1, seq2...seq6, and input them where indicated. \n",
    "b) Run the cell and record their Alignment Score.\n",
    "\"\"\"\n",
    "def align_sequences(seqA, seqB):\n",
    "    aligner = PairwiseAligner()\n",
    "    alignments = aligner.align(seqA, seqB)\n",
    "    return alignments[0]\n",
    "\n",
    "#INPUT THE SEQUENCES YOU WANT TO ALIGN HERE; replace \"seq1, seq2\" with the two you want to compare\n",
    "alignment = align_sequences(seq1, seq2)\n",
    "print(alignment)\n",
    "print(f\"Alignment Score: {alignment.score}\")\n",
    "\n",
    "print(seq1)"
   ]
  },
  {
   "cell_type": "code",
   "execution_count": null,
   "id": "33ebaf83-e251-4d52-beed-95ab098dc9e3",
   "metadata": {},
   "outputs": [],
   "source": [
    "\"\"\"\n",
    "Step 3: Create an alignment chart for all the sequence pairs\n",
    "\n",
    "\"\"\"\n",
    "seqs_list = [seq_record.id for seq_record in sequences]\n",
    "df = pd.DataFrame(\"\", index=seqs_list, columns=seqs_list)\n",
    "for i in range(1, len(seqs_list) + 1):\n",
    "    s1 = globals()[f\"seq{i}\"]\n",
    "    for j in range(i, len(seqs_list) + 1):\n",
    "        s2 = globals()[f\"seq{j}\"]\n",
    "        score = align_sequences(s1, s2).score\n",
    "        df.loc[f\"seq{i}\", f\"seq{j}\"] = int(score)\n",
    "df"
   ]
  },
  {
   "cell_type": "code",
   "execution_count": null,
   "id": "5677d78e-b2bc-4673-bc5f-df5e3d447a50",
   "metadata": {},
   "outputs": [],
   "source": [
    "\"\"\"\n",
    "Step 4: Make the phylogenetic tree for the practice sequences!\n",
    "\"\"\"\n",
    "\n",
    "#align sequences\n",
    "alignment = MultipleSeqAlignment(sequences)\n",
    "\n",
    "#calculate distances between sequences\n",
    "calculator = DistanceCalculator('identity')\n",
    "distance_matrix = calculator.get_distance(alignment)\n",
    "\n",
    "#make the tree from the distance matrix\n",
    "constructor = DistanceTreeConstructor()\n",
    "tree = constructor.upgma(distance_matrix)\n",
    "\n",
    "#Remove inner clade labels\n",
    "for clade in tree.find_clades():\n",
    "    if \"Inner\" in clade.name:\n",
    "        clade.name = None\n",
    "\n",
    "# Print the phylogenetic tree\n",
    "Phylo.draw(tree)\n"
   ]
  }
 ],
 "metadata": {
  "kernelspec": {
   "display_name": "Python 3 (ipykernel)",
   "language": "python",
   "name": "python3"
  },
  "language_info": {
   "codemirror_mode": {
    "name": "ipython",
    "version": 3
   },
   "file_extension": ".py",
   "mimetype": "text/x-python",
   "name": "python",
   "nbconvert_exporter": "python",
   "pygments_lexer": "ipython3",
   "version": "3.12.2"
  }
 },
 "nbformat": 4,
 "nbformat_minor": 5
}
